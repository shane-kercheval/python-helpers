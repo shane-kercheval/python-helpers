{
 "cells": [
  {
   "cell_type": "code",
   "execution_count": null,
   "id": "26eb56fb",
   "metadata": {},
   "outputs": [
    {
     "name": "stdout",
     "output_type": "stream",
     "text": [
      "Collecting kercheval\n",
      "  Using cached kercheval-0.0.3-py3-none-any.whl (2.4 kB)\n"
     ]
    }
   ],
   "source": [
    "!pip install kercheval"
   ]
  },
  {
   "cell_type": "code",
   "execution_count": null,
   "id": "b3cd91e6",
   "metadata": {},
   "outputs": [],
   "source": [
    "from kercheval import examples"
   ]
  },
  {
   "cell_type": "code",
   "execution_count": null,
   "id": "44c15e76",
   "metadata": {},
   "outputs": [],
   "source": []
  }
 ],
 "metadata": {
  "kernelspec": {
   "display_name": "Python 3",
   "language": "python",
   "name": "python3"
  },
  "language_info": {
   "codemirror_mode": {
    "name": "ipython",
    "version": 3
   },
   "file_extension": ".py",
   "mimetype": "text/x-python",
   "name": "python",
   "nbconvert_exporter": "python",
   "pygments_lexer": "ipython3",
   "version": "3.9.5"
  }
 },
 "nbformat": 4,
 "nbformat_minor": 5
}
