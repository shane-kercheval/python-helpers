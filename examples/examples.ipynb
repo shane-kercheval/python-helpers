{
 "cells": [
  {
   "cell_type": "code",
   "execution_count": 3,
   "id": "22b1ac05",
   "metadata": {},
   "outputs": [
    {
     "name": "stdout",
     "output_type": "stream",
     "text": [
      "Collecting kercheval\n",
      "  Using cached kercheval-0.0.3-py3-none-any.whl (2.4 kB)\n",
      "Installing collected packages: kercheval\n",
      "Successfully installed kercheval-0.0.3\n"
     ]
    }
   ],
   "source": [
    "!pip install kercheval"
   ]
  },
  {
   "cell_type": "code",
   "execution_count": 4,
   "id": "b186beaf",
   "metadata": {},
   "outputs": [],
   "source": [
    "from kercheval import example"
   ]
  },
  {
   "cell_type": "code",
   "execution_count": 5,
   "id": "380c86ce",
   "metadata": {},
   "outputs": [
    {
     "data": {
      "text/plain": [
       "13"
      ]
     },
     "execution_count": 5,
     "metadata": {},
     "output_type": "execute_result"
    }
   ],
   "source": [
    "example.add_one(12)"
   ]
  },
  {
   "cell_type": "code",
   "execution_count": null,
   "id": "02579be7",
   "metadata": {},
   "outputs": [],
   "source": []
  }
 ],
 "metadata": {
  "kernelspec": {
   "display_name": "Python 3",
   "language": "python",
   "name": "python3"
  },
  "language_info": {
   "codemirror_mode": {
    "name": "ipython",
    "version": 3
   },
   "file_extension": ".py",
   "mimetype": "text/x-python",
   "name": "python",
   "nbconvert_exporter": "python",
   "pygments_lexer": "ipython3",
   "version": "3.9.5"
  }
 },
 "nbformat": 4,
 "nbformat_minor": 5
}
